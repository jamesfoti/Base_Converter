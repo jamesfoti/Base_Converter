{
 "cells": [
  {
   "cell_type": "code",
   "execution_count": 1,
   "metadata": {},
   "outputs": [],
   "source": [
    "import numpy as np"
   ]
  },
  {
   "cell_type": "code",
   "execution_count": 2,
   "metadata": {},
   "outputs": [],
   "source": [
    "def Decimal_To_Binary(num):\n",
    "    binary = []\n",
    "    while (num != 0) :\n",
    "        binary.append(num % 2)\n",
    "        num = int(num / 2)\n",
    "    binary.reverse()\n",
    "    binary = int(''.join(map(str, binary)))\n",
    "    return binary"
   ]
  },
  {
   "cell_type": "code",
   "execution_count": 3,
   "metadata": {},
   "outputs": [
    {
     "name": "stdout",
     "output_type": "stream",
     "text": [
      "101\n"
     ]
    }
   ],
   "source": [
    "print(Decimal_To_Binary(5))"
   ]
  },
  {
   "cell_type": "code",
   "execution_count": 4,
   "metadata": {},
   "outputs": [],
   "source": [
    "def Binary_To_Decimal(num):\n",
    "    decimal = []\n",
    "    binary = [int(x) for x in str(num)]\n",
    "    index = len(binary) - 1\n",
    "    for i in range(len(binary)):\n",
    "        if binary[i] == 1:\n",
    "            decimal.append(2**index)\n",
    "        index = index - 1\n",
    "    decimal = np.sum(decimal)\n",
    "    return decimal"
   ]
  },
  {
   "cell_type": "code",
   "execution_count": 5,
   "metadata": {},
   "outputs": [
    {
     "name": "stdout",
     "output_type": "stream",
     "text": [
      "10\n"
     ]
    }
   ],
   "source": [
    "print(Binary_To_Decimal(1010))"
   ]
  },
  {
   "cell_type": "code",
   "execution_count": 6,
   "metadata": {},
   "outputs": [
    {
     "name": "stdout",
     "output_type": "stream",
     "text": [
      "The list from number is [2, 0, 1, 9]\n"
     ]
    }
   ],
   "source": [
    "# https://www.geeksforgeeks.org/python-convert-number-to-list-of-integers/\n",
    "num = 2019\n",
    "# using list comprehension \n",
    "# to convert number to list of integers \n",
    "res = [int(x) for x in str(num)] \n",
    "  \n",
    "# printing result  \n",
    "print (\"The list from number is \" + str(res))"
   ]
  },
  {
   "cell_type": "code",
   "execution_count": null,
   "metadata": {},
   "outputs": [],
   "source": []
  }
 ],
 "metadata": {
  "kernelspec": {
   "display_name": "Python 3",
   "language": "python",
   "name": "python3"
  },
  "language_info": {
   "codemirror_mode": {
    "name": "ipython",
    "version": 3
   },
   "file_extension": ".py",
   "mimetype": "text/x-python",
   "name": "python",
   "nbconvert_exporter": "python",
   "pygments_lexer": "ipython3",
   "version": "3.7.4"
  }
 },
 "nbformat": 4,
 "nbformat_minor": 2
}
