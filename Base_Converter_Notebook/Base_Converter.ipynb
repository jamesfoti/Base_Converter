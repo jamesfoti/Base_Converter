{
 "cells": [
  {
   "cell_type": "code",
   "execution_count": 3,
   "metadata": {},
   "outputs": [],
   "source": [
    "import numpy as np"
   ]
  },
  {
   "cell_type": "code",
   "execution_count": 4,
   "metadata": {},
   "outputs": [
    {
     "name": "stdout",
     "output_type": "stream",
     "text": [
      "The list from number is [2, 0, 1, 9]\n"
     ]
    }
   ],
   "source": [
    "# https://www.geeksforgeeks.org/python-convert-number-to-list-of-integers/\n",
    "num = 2019\n",
    "# using list comprehension \n",
    "# to convert number to list of integers \n",
    "res = [int(x) for x in str(num)] \n",
    "  \n",
    "# printing result  \n",
    "print (\"The list from number is \" + str(res))"
   ]
  },
  {
   "cell_type": "code",
   "execution_count": 94,
   "metadata": {},
   "outputs": [],
   "source": [
    "def Decimal_To_Binary(num):\n",
    "    \"\"\"\n",
    "    ONLY FOR POSITVE NUMBERS (at the moment)!\n",
    "    \"\"\"\n",
    "    \n",
    "    try:\n",
    "        num = int(num)\n",
    "        binary = []\n",
    "    \n",
    "        if num == 0:\n",
    "            return 0\n",
    "        \n",
    "        while (num != 0):\n",
    "            binary.append(num % 2)\n",
    "            num = int(num / 2)\n",
    "        binary.reverse()\n",
    "        binary = int(''.join(map(str, binary)))\n",
    "        return binary\n",
    "    except:\n",
    "        return \"Oops! That was no valid number. Try again...\""
   ]
  },
  {
   "cell_type": "code",
   "execution_count": 95,
   "metadata": {},
   "outputs": [
    {
     "name": "stdout",
     "output_type": "stream",
     "text": [
      "Oops! That was no valid number. Try again...\n"
     ]
    }
   ],
   "source": [
    "print(Decimal_To_Binary(\"A\"))"
   ]
  },
  {
   "cell_type": "code",
   "execution_count": 86,
   "metadata": {},
   "outputs": [],
   "source": [
    "def Binary_To_Decimal(num):\n",
    "    \"\"\"\n",
    "    ONLY FOR POSITVE NUMBERS (at the moment)!\n",
    "    \"\"\"\n",
    "    try:\n",
    "        decimal = []\n",
    "\n",
    "        num = [int(x) for x in str(num)]\n",
    "\n",
    "        index = len(num) - 1\n",
    "\n",
    "        for i in range(len(num)):\n",
    "            if num[i] == 1:\n",
    "                decimal.append(2**index)\n",
    "            elif num[i] > 1:\n",
    "                return \"Oops! That was no valid number. Try again...\"\n",
    "                \n",
    "            index = index - 1\n",
    "\n",
    "        decimal = np.sum(decimal)\n",
    "        \n",
    "        return decimal\n",
    "    except:\n",
    "        return \"Oops! That was no valid number. Try again...\""
   ]
  },
  {
   "cell_type": "code",
   "execution_count": 91,
   "metadata": {},
   "outputs": [
    {
     "name": "stdout",
     "output_type": "stream",
     "text": [
      "11\n",
      "Oops! That was no valid number. Try again...\n",
      "Oops! That was no valid number. Try again...\n",
      "Oops! That was no valid number. Try again...\n",
      "Oops! That was no valid number. Try again...\n"
     ]
    }
   ],
   "source": [
    "print(Binary_To_Decimal(1011))\n",
    "print(Binary_To_Decimal(12))\n",
    "print(Binary_To_Decimal(\"test\"))\n",
    "print(Binary_To_Decimal(\"1021\"))\n",
    "print(Binary_To_Decimal(\"15\"))"
   ]
  },
  {
   "cell_type": "code",
   "execution_count": 97,
   "metadata": {},
   "outputs": [],
   "source": [
    "def Decimal_To_Hexadecimal(num):\n",
    "    \"\"\"\n",
    "    ONLY FOR POSITVE NUMBERS (at the moment)!\n",
    "    \"\"\"\n",
    "    try:\n",
    "        num = int(num)\n",
    "\n",
    "        hexadecimal = []\n",
    "\n",
    "        while (num != 0):\n",
    "            if (num % 16) == 10:\n",
    "                hexadecimal.append(\"A\")\n",
    "            elif (num % 16) == 11:\n",
    "                hexadecimal.append(\"B\")\n",
    "            elif (num % 16) == 12:\n",
    "                hexadecimal.append(\"C\")\n",
    "            elif (num % 16) == 13:\n",
    "                hexadecimal.append(\"D\")\n",
    "            elif (num % 16) == 14:\n",
    "                hexadecimal.append(\"E\")\n",
    "            elif (num % 16) == 15:\n",
    "                hexadecimal.append(\"F\")\n",
    "            else:\n",
    "                hexadecimal.append(num % 16)\n",
    "\n",
    "            num = int(num / 16)\n",
    "\n",
    "        hexadecimal.reverse()\n",
    "        hexadecimal = (''.join(map(str, hexadecimal)))\n",
    "        return hexadecimal\n",
    "    except:\n",
    "        return \"Oops! That was no valid number. Try again...\""
   ]
  },
  {
   "cell_type": "code",
   "execution_count": 98,
   "metadata": {},
   "outputs": [
    {
     "name": "stdout",
     "output_type": "stream",
     "text": [
      "468\n",
      "A\n",
      "B\n",
      "C\n",
      "96\n",
      "96\n",
      "Oops! That was no valid number. Try again...\n"
     ]
    }
   ],
   "source": [
    "print(Decimal_To_Hexadecimal(1128))\n",
    "print(Decimal_To_Hexadecimal(10))\n",
    "print(Decimal_To_Hexadecimal(11))\n",
    "print(Decimal_To_Hexadecimal(12))\n",
    "print(Decimal_To_Hexadecimal(150))\n",
    "print(Decimal_To_Hexadecimal(\"150\"))\n",
    "print(Decimal_To_Hexadecimal(\"A\"))"
   ]
  },
  {
   "cell_type": "code",
   "execution_count": 99,
   "metadata": {},
   "outputs": [],
   "source": [
    "def Hexadecimal_To_Decimal(num):\n",
    "    \"\"\"\n",
    "    num: hexadecimal input represented as a STRING!\n",
    "    \"\"\"\n",
    "    \n",
    "    try:\n",
    "        decimal = []\n",
    "    \n",
    "        index = len(num) - 1\n",
    "\n",
    "        for i in range(len(num)):\n",
    "            if num[i] == \"A\":\n",
    "                decimal.append(10 *(16**index))\n",
    "            elif num[i] == \"B\":\n",
    "                decimal.append(11 *(16**index))\n",
    "            elif num[i] == \"C\":\n",
    "                decimal.append(12 *(16**index))\n",
    "            elif num[i] == \"D\":\n",
    "                decimal.append(13 *(16**index))\n",
    "            elif num[i] == \"E\":\n",
    "                decimal.append(14 *(16**index))\n",
    "            elif num[i] == \"F\":\n",
    "                decimal.append(15 *(16**index))\n",
    "            else:\n",
    "                decimal.append(int(num[i]) * (16**index))\n",
    "            index = index - 1\n",
    "\n",
    "        decimal = np.sum(decimal)\n",
    "        return decimal\n",
    "    except:\n",
    "        return \"Oops! That was no valid number. Try again...\""
   ]
  },
  {
   "cell_type": "code",
   "execution_count": 100,
   "metadata": {},
   "outputs": [
    {
     "data": {
      "text/plain": [
       "2748"
      ]
     },
     "execution_count": 100,
     "metadata": {},
     "output_type": "execute_result"
    }
   ],
   "source": [
    "Hexadecimal_To_Decimal(\"ABC\")"
   ]
  },
  {
   "cell_type": "code",
   "execution_count": null,
   "metadata": {},
   "outputs": [],
   "source": []
  }
 ],
 "metadata": {
  "kernelspec": {
   "display_name": "Python 3",
   "language": "python",
   "name": "python3"
  },
  "language_info": {
   "codemirror_mode": {
    "name": "ipython",
    "version": 3
   },
   "file_extension": ".py",
   "mimetype": "text/x-python",
   "name": "python",
   "nbconvert_exporter": "python",
   "pygments_lexer": "ipython3",
   "version": "3.7.4"
  }
 },
 "nbformat": 4,
 "nbformat_minor": 2
}
